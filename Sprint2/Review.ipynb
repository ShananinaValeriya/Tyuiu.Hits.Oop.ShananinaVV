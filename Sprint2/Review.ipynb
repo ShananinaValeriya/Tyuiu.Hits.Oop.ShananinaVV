{
 "cells": [
  {
   "cell_type": "code",
   "execution_count": 6,
   "metadata": {
    "dotnet_interactive": {
     "language": "csharp"
    },
    "polyglot_notebook": {
     "kernelName": "csharp"
    },
    "vscode": {
     "languageId": "polyglot-notebook"
    }
   },
   "outputs": [
    {
     "name": "stdout",
     "output_type": "stream",
     "text": [
      "Имя сотрудника: Андрей Смирнов, Должность: Разработчик, Зарплата: 50000\n",
      "\n",
      "Имя сотрудника: Ангелина Петрова, Должность: Менеджер по продажам, Зарплата: 70000\n",
      "Отдел управления: Продажи\n",
      "\n",
      "Имя сотрудника: Сергей Сидоров, Должность: Проектный менеджер, Зарплата: 90000\n",
      "Отдел управления: ИТ\n",
      "Название проекта: Телеграм-бот\n",
      "\n",
      "Отчет по проекту: Была создана первая команда.\n",
      "Члены команды: Алексей, Виктория, Максим\n"
     ]
    }
   ],
   "source": [
    "public class Employee\n",
    "{\n",
    "    public string Name {get; set;}\n",
    "    public string Position {get; set;}\n",
    "    public double Salary {get; set;}\n",
    "\n",
    "    public Employee(string name, string position, double salary)\n",
    "    {\n",
    "        Name = name;\n",
    "        Position = position;\n",
    "        Salary = salary;\n",
    "    }\n",
    "\n",
    "    public virtual void PrintInfo()\n",
    "    {\n",
    "        Console.WriteLine($\"Имя сотрудника: {Name}, Должность: {Position}, Зарплата: {Salary}\");\n",
    "    }\n",
    "}\n",
    "\n",
    "public class Manager : Employee\n",
    "{\n",
    "    public string Department {get; set;}\n",
    "\n",
    "    public Manager(string name, string position, double salary, string department)\n",
    "        : base(name, position, salary)\n",
    "    {\n",
    "        Department = department;\n",
    "    }\n",
    "\n",
    "    public override void PrintInfo()\n",
    "    {\n",
    "        base.PrintInfo();\n",
    "        Console.WriteLine($\"Отдел управления: {Department}\");\n",
    "    }\n",
    "}\n",
    "\n",
    "public interface IReportable\n",
    "{\n",
    "    string GenerateReport();\n",
    "}\n",
    "\n",
    "public interface ITeamLeader\n",
    "{\n",
    "    string[] GetTeamMembers();\n",
    "}\n",
    "\n",
    "public class ProjectManager : Manager, IReportable, ITeamLeader\n",
    "{\n",
    "    public string ProjectName { get; set; }\n",
    "    public string Report{get; set;}\n",
    "\n",
    "    public ProjectManager(string name, string position, double salary, string department, string projectName, string report)\n",
    "        : base(name, position, salary, department )\n",
    "    {\n",
    "        ProjectName = projectName;\n",
    "        Report = report;\n",
    "    }\n",
    "\n",
    "    public override void PrintInfo()\n",
    "    {\n",
    "        base.PrintInfo();\n",
    "        Console.WriteLine($\"Название проекта: {ProjectName}\");\n",
    "    }\n",
    "\n",
    "    public string GenerateReport()\n",
    "    {\n",
    "        return $\"Отчет по проекту: {Report}.\";\n",
    "    }\n",
    "\n",
    "    public string[] GetTeamMembers()\n",
    "    {\n",
    "        return new string[] { \"Алексей\", \"Виктория\", \"Максим\" };\n",
    "    }\n",
    "}\n",
    "\n",
    "Employee employee = new Employee(\"Андрей Смирнов\", \"Разработчик\", 50000);\n",
    "Manager manager = new Manager(\"Ангелина Петрова\", \"Менеджер по продажам\", 70000, \"Продажи\");\n",
    "ProjectManager projectManager = new ProjectManager(\"Сергей Сидоров\", \"Проектный менеджер\", 90000, \"ИТ\", \"Телеграм-бот\", \"Была создана первая команда\");\n",
    "\n",
    "employee.PrintInfo();\n",
    "Console.WriteLine();\n",
    "\n",
    "manager.PrintInfo();\n",
    "Console.WriteLine();\n",
    "\n",
    "projectManager.PrintInfo();\n",
    "Console.WriteLine();\n",
    "\n",
    "Console.WriteLine(projectManager.GenerateReport());\n",
    "Console.WriteLine(\"Члены команды: \" + string.Join(\", \", projectManager.GetTeamMembers()));"
   ]
  }
 ],
 "metadata": {
  "kernelspec": {
   "display_name": ".NET (C#)",
   "language": "C#",
   "name": ".net-csharp"
  },
  "language_info": {
   "name": "python"
  },
  "polyglot_notebook": {
   "kernelInfo": {
    "defaultKernelName": "csharp",
    "items": [
     {
      "aliases": [],
      "name": "csharp"
     }
    ]
   }
  }
 },
 "nbformat": 4,
 "nbformat_minor": 2
}
