{
 "cells": [
  {
   "cell_type": "code",
   "execution_count": 5,
   "metadata": {
    "dotnet_interactive": {
     "language": "csharp"
    },
    "polyglot_notebook": {
     "kernelName": "csharp"
    },
    "vscode": {
     "languageId": "polyglot-notebook"
    }
   },
   "outputs": [
    {
     "name": "stdout",
     "output_type": "stream",
     "text": [
      "Цветок Роза распускается и радует глаз!\n",
      "Роза выросла на 10 см. Новая высота: 40 см.\n",
      "Цветок Роза начинает увядать.\n"
     ]
    }
   ],
   "source": [
    "using System;\n",
    "\n",
    "namespace GardenManagement\n",
    "{\n",
    "    public class Plant\n",
    "    {\n",
    "        public string Name { get; set; }\n",
    "        public string Type { get; set; }\n",
    "        public float Height { get; set; }\n",
    "\n",
    "        public Plant(string name, string type, float height)\n",
    "        {\n",
    "            Name = name;\n",
    "            Type = type;\n",
    "            Height = height;\n",
    "        }\n",
    "\n",
    "        public virtual void Bloom()\n",
    "        {\n",
    "            Console.WriteLine($\"Растение {Name} цветет.\");\n",
    "        }\n",
    "\n",
    "        public void Grow(float growth)\n",
    "        {\n",
    "            Height += growth;\n",
    "            Console.WriteLine($\"{Name} выросло на {growth} см. Новая высота: {Height} см.\");\n",
    "        }\n",
    "    }\n",
    "\n",
    "    public class Flower : Plant\n",
    "    {\n",
    "        public string Color { get; set; }\n",
    "        public int PetalCount { get; set; }\n",
    "\n",
    "        public Flower(string name, float height, string color, int petalCount)\n",
    "            : base(name, \"Цветок\", height)\n",
    "        {\n",
    "            Color = color;\n",
    "            PetalCount = petalCount;\n",
    "        }\n",
    "\n",
    "        public override void Bloom()\n",
    "        {\n",
    "            Console.WriteLine($\"Цветок {Name} распускается и радует глаз! Цвет: {Color}, Количество лепестков: {PetalCount}.\");\n",
    "        }\n",
    "\n",
    "        public void Wither()\n",
    "        {\n",
    "            Console.WriteLine($\"Цветок {Name} начинает увядать.\");\n",
    "        }\n",
    "    }\n",
    "\n",
    "    class Program\n",
    "    {\n",
    "        static void Main(string[] args)\n",
    "        {\n",
    "            Flower flower = new Flower(\"Роза\", 30, \"Красный\", 5);\n",
    "           \n",
    "            flower.Bloom();\n",
    "            flower.Grow(10);\n",
    "            flower.Wither();\n",
    "\n",
    "            Console.ReadLine(); // Ожидание ввода для завершения программы\n",
    "        }\n",
    "    }\n",
    "}\n"
   ]
  }
 ],
 "metadata": {
  "kernelspec": {
   "display_name": ".NET (C#)",
   "language": "C#",
   "name": ".net-csharp"
  },
  "language_info": {
   "name": "python"
  },
  "polyglot_notebook": {
   "kernelInfo": {
    "defaultKernelName": "csharp",
    "items": [
     {
      "aliases": [],
      "name": "csharp"
     }
    ]
   }
  }
 },
 "nbformat": 4,
 "nbformat_minor": 2
}
