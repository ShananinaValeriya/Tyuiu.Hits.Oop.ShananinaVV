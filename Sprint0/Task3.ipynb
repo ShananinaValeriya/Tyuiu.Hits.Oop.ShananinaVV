{
 "cells": [
  {
   "cell_type": "markdown",
   "metadata": {},
   "source": [
    "<h1 style=\"color:DodgerBlue\">Индивидуальный проект</h1>"
   ]
  },
  {
   "cell_type": "markdown",
   "metadata": {},
   "source": [
    "<h2 style=\"color:DodgerBlue\">Название проекта:</h2>\n",
    "\n",
    "----\n",
    "\n",
    "### Вариант задания 17\n"
   ]
  },
  {
   "cell_type": "markdown",
   "metadata": {},
   "source": [
    "<h2 style=\"color:DodgerBlue\">Описание проекта:</h2>\n",
    "\n",
    "----\n",
    "\n",
    "Описание задачи:\n",
    "\n",
    "Создать базовый класс ShippingOption в C#, который будет представлять\n",
    "различные опции доставки. На основе этого класса разработать 2-3 производных\n",
    "класса, демонстрирующих принципы наследования и полиморфизма. В каждом из\n",
    "классов должны быть реализованы новые атрибуты и методы, а также\n",
    "переопределены некоторые методы базового класса для демонстрации\n",
    "полиморфизма.\n",
    "\n",
    "Требования к базовому классу ShippingOption:\n",
    "\n",
    "• Атрибуты: ID опции доставки (DeliveryOptionId), Название опции доставки\n",
    "(DeliveryOptionName), Стоимость доставки (Cost).\n",
    "\n",
    "• Методы:\n",
    "\n",
    "o CalculateCost(): метод для расчета стоимости доставки.\n",
    "\n",
    "o EstimateDeliveryTime(): метод для оценки времени доставки.\n",
    "\n",
    "o GetDeliveryDetails(): метод для получения деталей опции доставки.\n",
    "\n",
    "Требования к производным классам:\n",
    "\n",
    "1. СтандартнаяДоставка (StandardDelivery): Должна содержать\n",
    "дополнительные атрибуты, такие как Среднее время доставки\n",
    "(AverageDeliveryTime). Метод EstimateDeliveryTime() должен быть\n",
    "переопределен для предоставления среднего времени доставки.\n",
    "\n",
    "2. ЭкспрессДоставка (ExpressDelivery): Должна содержать дополнительные\n",
    "атрибуты, такие как Минимальное время доставки (MinDeliveryTime).\n",
    "Метод CalculateCost() должен быть переопределен для увеличения\n",
    "стоимости доставки в случае необходимости ускорения доставки.\n",
    "\n",
    "3. Самовывоз (Pickup) (если требуется третий класс): Должна содержать\n",
    "дополнительные атрибуты, такие как Адрес пункта самовывоза\n",
    "(PickupAddress). Метод GetDeliveryDetails() должен быть переопределен для\n",
    "отображения адреса пункта самовывоза.\n"
   ]
  },
  {
   "cell_type": "markdown",
   "metadata": {},
   "source": [
    "<h2 style=\"color:DodgerBlue\">Реализация:</h2>\n",
    "\n",
    "----"
   ]
  },
  {
   "cell_type": "code",
   "execution_count": 2,
   "metadata": {
    "dotnet_interactive": {
     "language": "csharp"
    },
    "polyglot_notebook": {
     "kernelName": "csharp"
    }
   },
   "outputs": [],
   "source": []
  }
 ],
 "metadata": {
  "kernelspec": {
   "display_name": ".NET (C#)",
   "language": "C#",
   "name": ".net-csharp"
  },
  "polyglot_notebook": {
   "kernelInfo": {
    "defaultKernelName": "csharp",
    "items": [
     {
      "aliases": [],
      "languageName": "csharp",
      "name": "csharp"
     }
    ]
   }
  }
 },
 "nbformat": 4,
 "nbformat_minor": 2
}
